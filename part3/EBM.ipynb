{
 "cells": [
  {
   "cell_type": "code",
   "execution_count": 18,
   "metadata": {},
   "outputs": [],
   "source": [
    "import pandas as pd\n",
    "from interpret.glassbox import ExplainableBoostingRegressor\n",
    "from interpret import *\n",
    "import matplotlib.pyplot as plt\n"
   ]
  },
  {
   "cell_type": "code",
   "execution_count": 3,
   "metadata": {},
   "outputs": [
    {
     "name": "stdout",
     "output_type": "stream",
     "text": [
      "Features: Index(['cement', 'slag', 'flyash', 'water', 'superplasticizer',\n",
      "       'coarseaggregate', 'fineaggregate', 'age'],\n",
      "      dtype='object')\n",
      "Target: csMPa\n"
     ]
    }
   ],
   "source": [
    "# Load the data from the CSV file\n",
    "data = pd.read_csv('Concrete_Data.csv')\n",
    "\n",
    "# Split the data into training and testing sets\n",
    "train_data = data.sample(frac=0.8, random_state=1)\n",
    "test_data = data.drop(train_data.index)\n",
    "\n",
    "# Define the features and the target variable\n",
    "features = data.columns[:-1]\n",
    "target = data.columns[-1]\n",
    "print(\"Features: {}\".format(features))\n",
    "print(\"Target: {}\".format(target))"
   ]
  },
  {
   "cell_type": "code",
   "execution_count": 4,
   "metadata": {},
   "outputs": [
    {
     "name": "stdout",
     "output_type": "stream",
     "text": [
      "Test score: 0.93\n"
     ]
    }
   ],
   "source": [
    "# Create an EBM model and train it on the training data\n",
    "model = ExplainableBoostingRegressor()\n",
    "model.fit(train_data[features], train_data[target])\n",
    "\n",
    "# Evaluate the model on the testing data\n",
    "score = model.score(test_data[features], test_data[target])\n",
    "print(\"Test score: {:.2f}\".format(score))"
   ]
  },
  {
   "cell_type": "code",
   "execution_count": null,
   "metadata": {},
   "outputs": [],
   "source": [
    "# Create a scatter plot of each input feature against the output variable\n",
    "for feature in features:\n",
    "    plt.scatter(data[feature], data[target])\n",
    "    plt.xlabel(feature)\n",
    "    plt.ylabel(target)\n",
    "    plt.show()"
   ]
  },
  {
   "cell_type": "code",
   "execution_count": 20,
   "metadata": {},
   "outputs": [
    {
     "data": {
      "text/html": [
       "<!-- http://127.0.0.1:7001/2746544675264/ -->\n",
       "<iframe src=\"http://127.0.0.1:7001/2746544675264/\" width=100% height=800 frameBorder=\"0\"></iframe>"
      ]
     },
     "metadata": {},
     "output_type": "display_data"
    }
   ],
   "source": [
    "# Get the feature importance scores using the explain_global() method\n",
    "global_explanation = model.explain_global()\n",
    "show(model.explain_global())"
   ]
  }
 ],
 "metadata": {
  "kernelspec": {
   "display_name": "ml-lab",
   "language": "python",
   "name": "python3"
  },
  "language_info": {
   "codemirror_mode": {
    "name": "ipython",
    "version": 3
   },
   "file_extension": ".py",
   "mimetype": "text/x-python",
   "name": "python",
   "nbconvert_exporter": "python",
   "pygments_lexer": "ipython3",
   "version": "3.10.9"
  },
  "orig_nbformat": 4
 },
 "nbformat": 4,
 "nbformat_minor": 2
}
